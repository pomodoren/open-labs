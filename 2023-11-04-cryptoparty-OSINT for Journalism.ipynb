{
 "cells": [
  {
   "cell_type": "markdown",
   "metadata": {
    "slideshow": {
     "slide_type": "slide"
    }
   },
   "source": [
    "<img width=\"1000px\" src=\"docs/crypto/poster-crypto.png\">"
   ]
  },
  {
   "cell_type": "markdown",
   "metadata": {
    "slideshow": {
     "slide_type": "subslide"
    }
   },
   "source": [
    "## Table of Contents\n",
    "\n",
    "- Why OSINT?\n",
    "- Useful tools\n",
    "   - open-data \n",
    "   - fishing documents in websites\n",
    "- OSINT in the Albanian Context\n",
    "   - OpenCorporates\n",
    "   - LibreOffice + PMPC + networks/graphs\n",
    "   - GeoSpatial Intelligence\n",
    "- Practice"
   ]
  },
  {
   "cell_type": "markdown",
   "metadata": {
    "slideshow": {
     "slide_type": "slide"
    }
   },
   "source": [
    "# Why OSINT?\n",
    "\n",
    "*how to get from one place to next?*   \n",
    "*use OSMNX https://osmnx.readthedocs.io/en/stable/*\n",
    "\n"
   ]
  },
  {
   "cell_type": "markdown",
   "metadata": {
    "slideshow": {
     "slide_type": "slide"
    }
   },
   "source": [
    "# Useful tools\n",
    "\n",
    "*how to get from one place to next?*   \n",
    "*use OSMNX https://osmnx.readthedocs.io/en/stable/*\n",
    "\n"
   ]
  },
  {
   "cell_type": "markdown",
   "metadata": {
    "slideshow": {
     "slide_type": "subslide"
    }
   },
   "source": [
    "## The map of OSINT tools\n",
    "\n",
    "*how to get from one place to next?*   \n",
    "*use OSMNX https://osmnx.readthedocs.io/en/stable/*\n",
    "\n",
    "\n",
    "\n",
    "<img width=1200px class=\"center-block\"  src=\"docs/crypto/OSINT-all.png\" style=\"border-style: solid;\">"
   ]
  },
  {
   "cell_type": "markdown",
   "metadata": {
    "slideshow": {
     "slide_type": "slide"
    }
   },
   "source": [
    "# OSINT in the Albanian context\n",
    "\n",
    "*how to get from one place to next?*   \n",
    "*use OSMNX https://osmnx.readthedocs.io/en/stable/*\n",
    "\n"
   ]
  },
  {
   "cell_type": "markdown",
   "metadata": {
    "slideshow": {
     "slide_type": "subslide"
    }
   },
   "source": [
    "## OpenCorporates\n",
    "\n",
    "*Track businesses.*   \n",
    "*use https://opencorporates.al/*\n",
    "\n",
    "\n",
    "\n",
    "<img width=1200px class=\"center-block\"  src=\"docs/crypto/opencorporates.png\">"
   ]
  },
  {
   "cell_type": "markdown",
   "metadata": {
    "slideshow": {
     "slide_type": "slide"
    }
   },
   "source": [
    "# Practice\n",
    " \n",
    "*use OSMNX https://osmnx.readthedocs.io/en/stable/*\n",
    "\n"
   ]
  },
  {
   "cell_type": "markdown",
   "metadata": {
    "slideshow": {
     "slide_type": "subslide"
    }
   },
   "source": [
    "## Analyzing trips with OSS\n",
    "*Analyzing gps data for people, bikes, buses, cars, birds, football players*  \n",
    "*using movingpandas https://movingpandas.org/*\n",
    "\n",
    "| People moving | Birds moving | Football | \n",
    "|---| --| --|\n",
    "| <img width=700px class=\"center-block\"  src=\"docs/transport/mv-person.png\"> | <img width=700px class=\"center-block\" src=\"docs/transport/mv-bird.png\"> | <img width=700px class=\"center-block\" src=\"docs/transport/mv-football.png\"> |"
   ]
  },
  {
   "cell_type": "markdown",
   "metadata": {
    "slideshow": {
     "slide_type": "slide"
    }
   },
   "source": [
    "# References\n",
    "\n",
    "- https://wiki.openlabs.cc/index.php?title=CryptoParty_Tirana_04/11/2023\n",
    "- https://pad.openlabs.cc/NUCxcxzvT1imddByZ5oXEw\n",
    "- https://en.wikipedia.org/wiki/Bellingcat"
   ]
  }
 ],
 "metadata": {
  "celltoolbar": "Slideshow",
  "kernelspec": {
   "display_name": "Python 3 (ipykernel)",
   "language": "python",
   "name": "python3"
  },
  "language_info": {
   "codemirror_mode": {
    "name": "ipython",
    "version": 3
   },
   "file_extension": ".py",
   "mimetype": "text/x-python",
   "name": "python",
   "nbconvert_exporter": "python",
   "pygments_lexer": "ipython3",
   "version": "3.10.12"
  },
  "vscode": {
   "interpreter": {
    "hash": "e7370f93d1d0cde622a1f8e1c04877d8463912d04d973331ad4851f04de6915a"
   }
  }
 },
 "nbformat": 4,
 "nbformat_minor": 4
}

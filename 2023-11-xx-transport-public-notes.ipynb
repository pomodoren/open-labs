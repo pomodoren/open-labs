{
 "cells": [
  {
   "cell_type": "markdown",
   "metadata": {
    "slideshow": {
     "slide_type": "slide"
    }
   },
   "source": [
    "###POSTER"
   ]
  },
  {
   "cell_type": "markdown",
   "metadata": {
    "slideshow": {
     "slide_type": "subslide"
    }
   },
   "source": [
    "## Table of Contents\n",
    "\n",
    "\n",
    "1. introduction \n",
    "2. PT in Tirana \n",
    "   1. Lines according to OSM\n",
    "   2. Interaction with data\n",
    "3. Comparative analysis\n",
    "   1. **Europe**: Berlin, Viena, Zurich\n",
    "   2. **Asia**: Tokyo\n",
    "   3. **Mexico**: Merida\n",
    "   4. **Balkans**: Tirana\n",
    "4. Costs and transport engineering\n",
    "   1. Optimizations\n",
    "      1. Changing stops so that they represent population\n",
    "      2. Changing schedules so that there is actual transit\n",
    "   2. E-transition\n",
    "5. Public Transport Econ-101\n",
    "   1. Actors and Institutions\n",
    "   2. Public Policies\n",
    "   3. Informalities "
   ]
  },
  {
   "cell_type": "markdown",
   "metadata": {
    "slideshow": {
     "slide_type": "slide"
    }
   },
   "source": [
    "# Introduction\n",
    "*last time*"
   ]
  },
  {
   "cell_type": "markdown",
   "metadata": {
    "slideshow": {
     "slide_type": "subslide"
    }
   },
   "source": [
    "<img width=\"1200px\" class=\"center-block\" src=\"docs/transport/pres_3.png\">"
   ]
  },
  {
   "cell_type": "markdown",
   "metadata": {
    "slideshow": {
     "slide_type": "slide"
    }
   },
   "source": [
    "## Maps\n",
    "*OSM, cities, networks*"
   ]
  },
  {
   "cell_type": "markdown",
   "metadata": {
    "slideshow": {
     "slide_type": "subslide"
    }
   },
   "source": [
    "<img width=\"1200px\" class=\"center-block\" src=\"docs/transport/osm-sc.png\">"
   ]
  },
  {
   "cell_type": "markdown",
   "metadata": {},
   "source": [
    "# State of PT\n",
    "*OSM data, trips, UMI*"
   ]
  },
  {
   "cell_type": "markdown",
   "metadata": {
    "slideshow": {
     "slide_type": "subslide"
    }
   },
   "source": [
    "## OSM\n",
    "\n",
    "*last updated: x days ago*\n",
    "\n",
    "#TODO\n",
    "- lines/routes\n",
    "- stops/neighborhoods\n",
    "- schedules"
   ]
  },
  {
   "cell_type": "markdown",
   "metadata": {
    "slideshow": {
     "slide_type": "subslide"
    }
   },
   "source": [
    "## OSM vs Official Map\n",
    "\n",
    "*making visually pleasing maps of urban transport*   \n",
    "*using openmetromaps https://www.openmetromaps.org/ (last year)*  \n",
    "*or transitmap https://github.com/juliuste/transit-map (5 yrs ago)*\n",
    "    \n",
    "<img width=1000px class=\"center-block\"  src=\"docs/transport/openmetro.png\"> "
   ]
  },
  {
   "cell_type": "markdown",
   "metadata": {
    "slideshow": {
     "slide_type": "subslide"
    }
   },
   "source": [
    "## Understanding routes\n",
    "\n",
    "*checking gtfs data in QGIS, potentially making changes*  \n",
    "*using GTFS-GO https://github.com/MIERUNE/GTFS-GO*\n",
    "<br><br>\n",
    "\n",
    "<img width=1000px class=\"center-block\"  src=\"docs/transport/qgis-gtfs-go.png\"> "
   ]
  },
  {
   "cell_type": "markdown",
   "metadata": {
    "slideshow": {
     "slide_type": "subslide"
    }
   },
   "source": [
    "## Tracking my trips\n",
    "*track your bus usage using the GPS in your phone, and download the data for analysis*   \n",
    "*using OSMAnd*\n",
    "\n",
    "#TODO\n",
    "Measuring actual times for running service in lines:\n",
    "- Big lines: L4 - Vora, L13 - Tirana e Re, L15 - Kombinati (A/B), L16 - Unaza\n",
    "- Middle lines: L8, L11, L12\n",
    "- Small lines: L1, L2, L3, L6, L9\n",
    "\n",
    "| Line | Stops | Length (OSM) | Time |\n",
    "| ---- | ---- | ------| -----| \n",
    "| | | | | "
   ]
  },
  {
   "cell_type": "markdown",
   "metadata": {
    "slideshow": {
     "slide_type": "subslide"
    }
   },
   "source": [
    "## Urban Mobility Index\n",
    "\n",
    "\n",
    "\n",
    "*not open-source yet, but interesting metrics*   \n",
    "*using UMI https://urbanmobilityindex.here.com/city/berlin*  \n",
    "\n",
    "\n",
    "| Daily trips | Stops | Traffic | \n",
    "|---| --| --|\n",
    "| <img width=500px class=\"center-block\"  src=\"docs/transport/daily-trips.png\"> | <img width=500px class=\"center-block\" src=\"docs/transport/stops.png\"> | <img width=500px class=\"center-block\" src=\"docs/transport/traffic.png\"> |"
   ]
  },
  {
   "cell_type": "markdown",
   "metadata": {
    "slideshow": {
     "slide_type": "subslide"
    }
   },
   "source": [
    "## UMI Tirana\n",
    "\n",
    "#TODO:\n",
    "- daily trips\n",
    "- bus stop distribution\n",
    "- traffic"
   ]
  },
  {
   "cell_type": "markdown",
   "metadata": {},
   "source": [
    "# Comparative Analysis\n",
    "*Europe, Asia, America, Balkans*"
   ]
  },
  {
   "cell_type": "markdown",
   "metadata": {
    "slideshow": {
     "slide_type": "subslide"
    }
   },
   "source": [
    "## Comparing urban transport\n",
    "    \n",
    "<img width=1200px class=\"center-block\"  src=\"docs/transport/citylines.png\"> "
   ]
  },
  {
   "cell_type": "markdown",
   "metadata": {},
   "source": [
    "# Costs and transport engineering\n",
    "*optimizations, connectivity*   \n",
    "*introduction ...*"
   ]
  },
  {
   "cell_type": "markdown",
   "metadata": {
    "slideshow": {
     "slide_type": "slide"
    }
   },
   "source": [
    "# Econ101\n",
    "*actors, elasticity, demand, supply*   \n",
    "*introduction ...*"
   ]
  },
  {
   "cell_type": "markdown",
   "metadata": {},
   "source": [
    "## Municipality Decisions on PT\n",
    "\n",
    "- VKB\n",
    "- News\n",
    "- Public Discussion"
   ]
  },
  {
   "cell_type": "markdown",
   "metadata": {
    "slideshow": {
     "slide_type": "subslide"
    }
   },
   "source": [
    "  \n",
    "<img width=1000px class=\"center-block\"  src=\"docs/transport/policy-1.png\"> "
   ]
  }
 ],
 "metadata": {
  "celltoolbar": "Slideshow",
  "kernelspec": {
   "display_name": "Python 3 (ipykernel)",
   "language": "python",
   "name": "python3"
  },
  "language_info": {
   "codemirror_mode": {
    "name": "ipython",
    "version": 3
   },
   "file_extension": ".py",
   "mimetype": "text/x-python",
   "name": "python",
   "nbconvert_exporter": "python",
   "pygments_lexer": "ipython3",
   "version": "3.10.12"
  },
  "vscode": {
   "interpreter": {
    "hash": "e7370f93d1d0cde622a1f8e1c04877d8463912d04d973331ad4851f04de6915a"
   }
  }
 },
 "nbformat": 4,
 "nbformat_minor": 4
}

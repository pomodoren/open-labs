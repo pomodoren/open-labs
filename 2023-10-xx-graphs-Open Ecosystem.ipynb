{
 "cells": [
  {
   "cell_type": "markdown",
   "metadata": {
    "slideshow": {
     "slide_type": "slide"
    }
   },
   "source": [
    "## POSTER"
   ]
  },
  {
   "cell_type": "markdown",
   "metadata": {
    "slideshow": {
     "slide_type": "skip"
    }
   },
   "source": [
    "Structure:\n",
    "- title\n",
    "- two main sentences\n",
    "- picture/table\n",
    "- reference\n",
    "\n",
    "Suggestions:\n",
    "- 1 every 5 slides should be fun (color, gif, joke)\n",
    "- infographic: how does each topic relate to graphs\n",
    "- concepts should be easy\n",
    "    - simple: family connections\n",
    "    - simple: family networks - which group of people stuck together most?\n",
    "    \n",
    "    - OSM: traffic expected\n",
    "    - OSM: bridge built next after disaster\n",
    "    \n",
    "    - wiki: automatically changing related people and events\n",
    "    - wiki: ?\n",
    "    \n",
    "    - psyc: leadership\n",
    "    - psyc: loyalty of the voters\n",
    "    \n",
    "    - npsyc: diseases like Parkinsons, ASD\n",
    "    - npsyc: events like Stroke-Aphasia, Stroke-RightH\n",
    "  \n",
    "    - biomed: drug repurposing\n",
    "    - biomed: ??"
   ]
  },
  {
   "cell_type": "markdown",
   "metadata": {
    "slideshow": {
     "slide_type": "subslide"
    }
   },
   "source": [
    "## Table of Contents\n",
    "\n",
    "\n",
    "1. What is a simple graph?\n",
    "2. How graphs build OSM networks?\n",
    "3. How graphs build wikipedia knowledge?\n",
    "4. Graphs and open neuropsychology\n",
    "5. Graphs and open biomedicine"
   ]
  },
  {
   "cell_type": "markdown",
   "metadata": {
    "slideshow": {
     "slide_type": "slide"
    }
   },
   "source": [
    "# What is a simple graph?\n",
    "*(edges, nodes), properties, abstractions*"
   ]
  },
  {
   "cell_type": "markdown",
   "metadata": {
    "slideshow": {
     "slide_type": "subslide"
    }
   },
   "source": [
    "### Nodes and edges\n",
    "*How family trees start becoming useful ...   \n",
    "Who are the third cousins that already have babies (and not married to their own cousin)?*\n",
    "\n"
   ]
  },
  {
   "cell_type": "markdown",
   "metadata": {
    "slideshow": {
     "slide_type": "subslide"
    }
   },
   "source": [
    "### Building up graphs\n",
    "\n",
    "|||\n",
    "|--|--|\n",
    "| 2 | tree |\n",
    "| graph | multiconnected |"
   ]
  },
  {
   "cell_type": "markdown",
   "metadata": {
    "slideshow": {
     "slide_type": "subslide"
    }
   },
   "source": [
    "### Why graphs\n",
    "*new properties like betweenness, centrality, x*"
   ]
  },
  {
   "cell_type": "markdown",
   "metadata": {
    "slideshow": {
     "slide_type": "slide"
    }
   },
   "source": [
    "# How graphs build OSM networks?\n",
    "*cities, (buildings, street-networks), public transport*"
   ]
  },
  {
   "cell_type": "markdown",
   "metadata": {
    "slideshow": {
     "slide_type": "subslide"
    }
   },
   "source": [
    "### Spatial information\n",
    "*buildings, street networks, boundaries, cities*\n",
    "\n",
    "<img width=\"1200px\" class=\"center-block\" src=\"docs/transport/osm-sc.png\">\n",
    "\n",
    "\n",
    "*Ref: Tirana in OSM, https://www.openstreetmap.org/relation/1250106*"
   ]
  },
  {
   "cell_type": "markdown",
   "metadata": {
    "slideshow": {
     "slide_type": "subslide"
    }
   },
   "source": [
    "### Reading OSM through graphs\n",
    "*Graphs can help visualize significant information on the properties of subgroups of the city-network, for example the centrality of the street Murat Toptani.*\n",
    "\n",
    "<img width=1000px class=\"center-block\"  src=\"docs/transport/tirana-streets.png\">"
   ]
  },
  {
   "cell_type": "markdown",
   "metadata": {
    "slideshow": {
     "slide_type": "subslide"
    }
   },
   "source": [
    "### When do properties become important?\n",
    "*routing made easy for multiple purposes*   \n",
    "\n",
    "\n",
    "| Logistics | Disaster management | Healthcare map | \n",
    "|---| --| --|\n",
    "| <img width=500px class=\"center-block\"  src=\"docs/transport/logistics-best.png\"> | <img width=1000px class=\"center-block\" src=\"docs/transport/flood.png\"> | <img width=500px class=\"center-block\" src=\"docs/transport/healthcare.png\"> |\n",
    "\n",
    "\n",
    "*Ref: https://openrouteservice.org/*"
   ]
  },
  {
   "cell_type": "markdown",
   "metadata": {
    "slideshow": {
     "slide_type": "slide"
    }
   },
   "source": [
    "#  How graphs build Wikipedia knowledge?\n",
    "*knowledge graphs, categorization, text-analysis*"
   ]
  },
  {
   "cell_type": "markdown",
   "metadata": {
    "slideshow": {
     "slide_type": "subslide"
    }
   },
   "source": []
  },
  {
   "cell_type": "markdown",
   "metadata": {
    "slideshow": {
     "slide_type": "subslide"
    }
   },
   "source": []
  },
  {
   "cell_type": "markdown",
   "metadata": {
    "slideshow": {
     "slide_type": "subslide"
    }
   },
   "source": []
  },
  {
   "cell_type": "markdown",
   "metadata": {
    "slideshow": {
     "slide_type": "slide"
    }
   },
   "source": [
    "# Graphs and open neuropsychology\n",
    "*psychological factors, comorbid-lab (my wikipedia), brain networks, balances of the brain*"
   ]
  },
  {
   "cell_type": "markdown",
   "metadata": {
    "slideshow": {
     "slide_type": "subslide"
    }
   },
   "source": [
    "### Networks of psychology\n",
    "*How do traits affect things like leadership or voting loyalty?*\n",
    "\n",
    "\n",
    "<img width=900px class=\"center-block\"  src=\"docs/graphs/psyc-1.png\">\n",
    "\n",
    "*Ref: https://www.hindawi.com/journals/complexity/2019/9424605/*"
   ]
  },
  {
   "cell_type": "markdown",
   "metadata": {
    "slideshow": {
     "slide_type": "subslide"
    }
   },
   "source": [
    "### Brain networks \n",
    "\n"
   ]
  },
  {
   "cell_type": "markdown",
   "metadata": {
    "slideshow": {
     "slide_type": "subslide"
    }
   },
   "source": [
    "### Neuropsychology of Diseases\n",
    "\n",
    "| **Dementia** | **Parkinsons** |\n",
    "| ------- | ---------| \n",
    "|  memory subnetwork drops | Movement network drops |\n",
    "| **Autism** | **Stroke (aphasia)** |\n",
    "| over-generalization | language center | "
   ]
  },
  {
   "cell_type": "markdown",
   "metadata": {
    "slideshow": {
     "slide_type": "subslide"
    }
   },
   "source": [
    "### Data: OpenNeuro\n",
    "\n"
   ]
  },
  {
   "cell_type": "markdown",
   "metadata": {
    "slideshow": {
     "slide_type": "subslide"
    }
   },
   "source": [
    "### Tools: MRICron\n",
    "\n"
   ]
  },
  {
   "cell_type": "markdown",
   "metadata": {
    "slideshow": {
     "slide_type": "slide"
    }
   },
   "source": [
    "# Graphs and open biomedicine\n",
    "*ontologies, tools, open-targets*"
   ]
  },
  {
   "cell_type": "markdown",
   "metadata": {
    "slideshow": {
     "slide_type": "subslide"
    }
   },
   "source": [
    "### Finding concepts like in Wikipedia\n",
    "\n",
    "<img width=1000px class=\"center-block\"  src=\"docs/graphs/biomed-concepts.png\">\n",
    "\n",
    "*Ref: https://www.nature.com/articles/s41598-017-05778-z*"
   ]
  },
  {
   "cell_type": "markdown",
   "metadata": {
    "slideshow": {
     "slide_type": "subslide"
    }
   },
   "source": [
    "### Language as a graph\n",
    "*Also language can be thought of as a graph,  \n",
    "with nodes as words and grammatical relations as edges.*\n",
    "\n",
    "<img width=\"1200px\" class=\"center-block\" src=\"docs/graphs/language.png\">\n",
    "\n",
    "*Ref: Spacy model for language, https://demos.explosion.ai/displacy*"
   ]
  },
  {
   "cell_type": "markdown",
   "metadata": {
    "slideshow": {
     "slide_type": "subslide"
    }
   },
   "source": [
    "### Building precision medicine\n",
    "\n",
    "\n",
    "<img width=1000px class=\"center-block\"  src=\"docs/graphs/biomed1.png\">\n",
    "\n",
    "*Ref: https://www.nature.com/articles/s41597-023-01960-3*"
   ]
  },
  {
   "cell_type": "markdown",
   "metadata": {
    "slideshow": {
     "slide_type": "subslide"
    }
   },
   "source": [
    "### Data: Ontologies\n",
    "\n",
    "*Ref: MOX*"
   ]
  },
  {
   "cell_type": "markdown",
   "metadata": {
    "slideshow": {
     "slide_type": "subslide"
    }
   },
   "source": [
    "### Tools: Open Targets\n",
    "\n",
    "*Ref: https://platform.opentargets.org/*"
   ]
  },
  {
   "cell_type": "markdown",
   "metadata": {},
   "source": []
  }
 ],
 "metadata": {
  "celltoolbar": "Slideshow",
  "kernelspec": {
   "display_name": "Python 3 (ipykernel)",
   "language": "python",
   "name": "python3"
  },
  "language_info": {
   "codemirror_mode": {
    "name": "ipython",
    "version": 3
   },
   "file_extension": ".py",
   "mimetype": "text/x-python",
   "name": "python",
   "nbconvert_exporter": "python",
   "pygments_lexer": "ipython3",
   "version": "3.10.12"
  },
  "vscode": {
   "interpreter": {
    "hash": "e7370f93d1d0cde622a1f8e1c04877d8463912d04d973331ad4851f04de6915a"
   }
  }
 },
 "nbformat": 4,
 "nbformat_minor": 4
}

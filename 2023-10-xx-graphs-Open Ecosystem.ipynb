{
 "cells": [
  {
   "cell_type": "markdown",
   "metadata": {
    "slideshow": {
     "slide_type": "slide"
    }
   },
   "source": [
    "## POSTER"
   ]
  },
  {
   "cell_type": "markdown",
   "metadata": {
    "slideshow": {
     "slide_type": "subslide"
    }
   },
   "source": [
    "## Table of Contents\n",
    "\n",
    "\n",
    "1. What is a simple graph?\n",
    "2. How graphs build OSM networks?\n",
    "3. How graphs build wikipedia knowledge?\n",
    "4. Graphs and open neuropsychology\n",
    "5. Graphs and open biomedicine\n",
    "6. Graphs and AI"
   ]
  },
  {
   "cell_type": "markdown",
   "metadata": {
    "slideshow": {
     "slide_type": "slide"
    }
   },
   "source": [
    "# What is a simple graph?\n",
    "*(edges, nodes), properties, abstractions*"
   ]
  },
  {
   "cell_type": "markdown",
   "metadata": {
    "slideshow": {
     "slide_type": "subslide"
    }
   },
   "source": [
    "### Nodes and edges\n",
    "*I am a graph, you are a graph, we are a graph*"
   ]
  },
  {
   "cell_type": "markdown",
   "metadata": {
    "slideshow": {
     "slide_type": "subslide"
    }
   },
   "source": [
    "### Building up graphs\n",
    "\n",
    "|||\n",
    "|--|--|\n",
    "| 2 | tree |\n",
    "| graph | multiconnected |"
   ]
  },
  {
   "cell_type": "markdown",
   "metadata": {
    "slideshow": {
     "slide_type": "subslide"
    }
   },
   "source": [
    "### Why graphs\n",
    "*new properties like betweenness, centrality, x*"
   ]
  },
  {
   "cell_type": "markdown",
   "metadata": {
    "slideshow": {
     "slide_type": "subslide"
    }
   },
   "source": [
    "### Language as a graph\n",
    "*Also language can be thought of as a graph,  \n",
    "with nodes as words and grammatical relations as edges.*\n",
    "\n",
    "<img width=\"1200px\" class=\"center-block\" src=\"docs/graphs/language.png\">\n",
    "\n",
    "*Ref: Spacy model for language, https://demos.explosion.ai/displacy*"
   ]
  },
  {
   "cell_type": "markdown",
   "metadata": {
    "slideshow": {
     "slide_type": "slide"
    }
   },
   "source": [
    "# How graphs build OSM networks?\n",
    "*cities, (buildings, street-networks), public transport*"
   ]
  },
  {
   "cell_type": "markdown",
   "metadata": {
    "slideshow": {
     "slide_type": "subslide"
    }
   },
   "source": [
    "### Spatial information\n",
    "*buildings, street networks, boundaries, cities*\n",
    "\n",
    "<img width=\"1200px\" class=\"center-block\" src=\"docs/transport/osm-sc.png\">\n",
    "\n",
    "\n",
    "*Ref: Tirana in OSM, https://www.openstreetmap.org/relation/1250106*"
   ]
  },
  {
   "cell_type": "code",
   "execution_count": 8,
   "metadata": {
    "slideshow": {
     "slide_type": "skip"
    }
   },
   "outputs": [],
   "source": [
    "import warnings\n",
    "warnings.filterwarnings('ignore')\n",
    "std_kwargs = {\n",
    "    \"figsize\":(12, 12),\n",
    "    \"legend\":True,\n",
    "    \"legend_kwds\":dict(loc=\"upper left\", ncol=3, bbox_to_anchor=(1, 1)),\n",
    "}"
   ]
  },
  {
   "cell_type": "markdown",
   "metadata": {
    "slideshow": {
     "slide_type": "subslide"
    }
   },
   "source": [
    "### Nodes and edges in OSM"
   ]
  },
  {
   "cell_type": "code",
   "execution_count": 9,
   "metadata": {
    "slideshow": {
     "slide_type": "fragment"
    }
   },
   "outputs": [
    {
     "data": {
      "text/html": [
       "<div>\n",
       "<style scoped>\n",
       "    .dataframe tbody tr th:only-of-type {\n",
       "        vertical-align: middle;\n",
       "    }\n",
       "\n",
       "    .dataframe tbody tr th {\n",
       "        vertical-align: top;\n",
       "    }\n",
       "\n",
       "    .dataframe thead th {\n",
       "        text-align: right;\n",
       "    }\n",
       "</style>\n",
       "<table border=\"1\" class=\"dataframe\">\n",
       "  <thead>\n",
       "    <tr style=\"text-align: right;\">\n",
       "      <th></th>\n",
       "      <th>y</th>\n",
       "      <th>x</th>\n",
       "      <th>street_count</th>\n",
       "      <th>highway</th>\n",
       "      <th>geometry</th>\n",
       "    </tr>\n",
       "    <tr>\n",
       "      <th>osmid</th>\n",
       "      <th></th>\n",
       "      <th></th>\n",
       "      <th></th>\n",
       "      <th></th>\n",
       "      <th></th>\n",
       "    </tr>\n",
       "  </thead>\n",
       "  <tbody>\n",
       "    <tr>\n",
       "      <th>15460830</th>\n",
       "      <td>41.327375</td>\n",
       "      <td>19.821887</td>\n",
       "      <td>4</td>\n",
       "      <td>NaN</td>\n",
       "      <td>POINT (19.82189 41.32737)</td>\n",
       "    </tr>\n",
       "    <tr>\n",
       "      <th>15492718</th>\n",
       "      <td>41.324410</td>\n",
       "      <td>19.822117</td>\n",
       "      <td>4</td>\n",
       "      <td>traffic_signals</td>\n",
       "      <td>POINT (19.82212 41.32441)</td>\n",
       "    </tr>\n",
       "    <tr>\n",
       "      <th>15492719</th>\n",
       "      <td>41.323970</td>\n",
       "      <td>19.822222</td>\n",
       "      <td>3</td>\n",
       "      <td>NaN</td>\n",
       "      <td>POINT (19.82222 41.32397)</td>\n",
       "    </tr>\n",
       "  </tbody>\n",
       "</table>\n",
       "</div>"
      ],
      "text/plain": [
       "                  y          x  street_count          highway  \\\n",
       "osmid                                                           \n",
       "15460830  41.327375  19.821887             4              NaN   \n",
       "15492718  41.324410  19.822117             4  traffic_signals   \n",
       "15492719  41.323970  19.822222             3              NaN   \n",
       "\n",
       "                           geometry  \n",
       "osmid                                \n",
       "15460830  POINT (19.82189 41.32737)  \n",
       "15492718  POINT (19.82212 41.32441)  \n",
       "15492719  POINT (19.82222 41.32397)  "
      ]
     },
     "metadata": {},
     "output_type": "display_data"
    },
    {
     "data": {
      "text/html": [
       "<div>\n",
       "<style scoped>\n",
       "    .dataframe tbody tr th:only-of-type {\n",
       "        vertical-align: middle;\n",
       "    }\n",
       "\n",
       "    .dataframe tbody tr th {\n",
       "        vertical-align: top;\n",
       "    }\n",
       "\n",
       "    .dataframe thead th {\n",
       "        text-align: right;\n",
       "    }\n",
       "</style>\n",
       "<table border=\"1\" class=\"dataframe\">\n",
       "  <thead>\n",
       "    <tr style=\"text-align: right;\">\n",
       "      <th></th>\n",
       "      <th></th>\n",
       "      <th></th>\n",
       "      <th>osmid</th>\n",
       "      <th>name</th>\n",
       "      <th>highway</th>\n",
       "      <th>oneway</th>\n",
       "      <th>reversed</th>\n",
       "      <th>length</th>\n",
       "      <th>lanes</th>\n",
       "      <th>geometry</th>\n",
       "      <th>maxspeed</th>\n",
       "      <th>width</th>\n",
       "      <th>ref</th>\n",
       "      <th>service</th>\n",
       "      <th>access</th>\n",
       "      <th>junction</th>\n",
       "      <th>tunnel</th>\n",
       "      <th>bridge</th>\n",
       "    </tr>\n",
       "    <tr>\n",
       "      <th>u</th>\n",
       "      <th>v</th>\n",
       "      <th>key</th>\n",
       "      <th></th>\n",
       "      <th></th>\n",
       "      <th></th>\n",
       "      <th></th>\n",
       "      <th></th>\n",
       "      <th></th>\n",
       "      <th></th>\n",
       "      <th></th>\n",
       "      <th></th>\n",
       "      <th></th>\n",
       "      <th></th>\n",
       "      <th></th>\n",
       "      <th></th>\n",
       "      <th></th>\n",
       "      <th></th>\n",
       "      <th></th>\n",
       "    </tr>\n",
       "  </thead>\n",
       "  <tbody>\n",
       "    <tr>\n",
       "      <th rowspan=\"3\" valign=\"top\">15460830</th>\n",
       "      <th>5920267458</th>\n",
       "      <th>0</th>\n",
       "      <td>469986175</td>\n",
       "      <td>Rruga Murat Toptani</td>\n",
       "      <td>residential</td>\n",
       "      <td>False</td>\n",
       "      <td>True</td>\n",
       "      <td>5.153</td>\n",
       "      <td>NaN</td>\n",
       "      <td>LINESTRING (19.82189 41.32737, 19.82190 41.32733)</td>\n",
       "      <td>NaN</td>\n",
       "      <td>NaN</td>\n",
       "      <td>NaN</td>\n",
       "      <td>NaN</td>\n",
       "      <td>NaN</td>\n",
       "      <td>NaN</td>\n",
       "      <td>NaN</td>\n",
       "      <td>NaN</td>\n",
       "    </tr>\n",
       "    <tr>\n",
       "      <th>8234683398</th>\n",
       "      <th>0</th>\n",
       "      <td>623138259</td>\n",
       "      <td>NaN</td>\n",
       "      <td>pedestrian</td>\n",
       "      <td>False</td>\n",
       "      <td>False</td>\n",
       "      <td>7.587</td>\n",
       "      <td>NaN</td>\n",
       "      <td>LINESTRING (19.82189 41.32737, 19.82187 41.32744)</td>\n",
       "      <td>NaN</td>\n",
       "      <td>NaN</td>\n",
       "      <td>NaN</td>\n",
       "      <td>NaN</td>\n",
       "      <td>NaN</td>\n",
       "      <td>NaN</td>\n",
       "      <td>NaN</td>\n",
       "      <td>NaN</td>\n",
       "    </tr>\n",
       "    <tr>\n",
       "      <th>258169545</th>\n",
       "      <th>0</th>\n",
       "      <td>624093873</td>\n",
       "      <td>Rruga Abdi Toptani</td>\n",
       "      <td>secondary</td>\n",
       "      <td>True</td>\n",
       "      <td>False</td>\n",
       "      <td>73.826</td>\n",
       "      <td>2</td>\n",
       "      <td>LINESTRING (19.82189 41.32737, 19.82205 41.327...</td>\n",
       "      <td>NaN</td>\n",
       "      <td>NaN</td>\n",
       "      <td>NaN</td>\n",
       "      <td>NaN</td>\n",
       "      <td>NaN</td>\n",
       "      <td>NaN</td>\n",
       "      <td>NaN</td>\n",
       "      <td>NaN</td>\n",
       "    </tr>\n",
       "  </tbody>\n",
       "</table>\n",
       "</div>"
      ],
      "text/plain": [
       "                             osmid                 name      highway  oneway  \\\n",
       "u        v          key                                                        \n",
       "15460830 5920267458 0    469986175  Rruga Murat Toptani  residential   False   \n",
       "         8234683398 0    623138259                  NaN   pedestrian   False   \n",
       "         258169545  0    624093873   Rruga Abdi Toptani    secondary    True   \n",
       "\n",
       "                        reversed  length lanes  \\\n",
       "u        v          key                          \n",
       "15460830 5920267458 0       True   5.153   NaN   \n",
       "         8234683398 0      False   7.587   NaN   \n",
       "         258169545  0      False  73.826     2   \n",
       "\n",
       "                                                                  geometry  \\\n",
       "u        v          key                                                      \n",
       "15460830 5920267458 0    LINESTRING (19.82189 41.32737, 19.82190 41.32733)   \n",
       "         8234683398 0    LINESTRING (19.82189 41.32737, 19.82187 41.32744)   \n",
       "         258169545  0    LINESTRING (19.82189 41.32737, 19.82205 41.327...   \n",
       "\n",
       "                        maxspeed width  ref service access junction tunnel  \\\n",
       "u        v          key                                                      \n",
       "15460830 5920267458 0        NaN   NaN  NaN     NaN    NaN      NaN    NaN   \n",
       "         8234683398 0        NaN   NaN  NaN     NaN    NaN      NaN    NaN   \n",
       "         258169545  0        NaN   NaN  NaN     NaN    NaN      NaN    NaN   \n",
       "\n",
       "                        bridge  \n",
       "u        v          key         \n",
       "15460830 5920267458 0      NaN  \n",
       "         8234683398 0      NaN  \n",
       "         258169545  0      NaN  "
      ]
     },
     "metadata": {},
     "output_type": "display_data"
    }
   ],
   "source": [
    "import osmnx as ox\n",
    "place_name = \"Njësia Bashkiake Nr. 2, Tirane, Albania\"\n",
    "graph = ox.graph_from_place(place_name)\n",
    "nodes, edges = ox.graph_to_gdfs(graph)\n",
    "display(nodes.head(3))\n",
    "$display(edges.head(3))"
   ]
  },
  {
   "cell_type": "markdown",
   "metadata": {
    "slideshow": {
     "slide_type": "subslide"
    }
   },
   "source": [
    "### Reading OSM through graphs\n",
    "*Graphs can help visualize significant information on the properties of subgroups of the city-network, for example the centrality of the street Murat Toptani.*\n",
    "\n",
    "<img width=1000px class=\"center-block\"  src=\"docs/transport/tirana-streets.png\">"
   ]
  },
  {
   "cell_type": "markdown",
   "metadata": {
    "slideshow": {
     "slide_type": "subslide"
    }
   },
   "source": [
    "### When do properties become important?\n",
    "*routing made easy for multiple purposes*   \n",
    "\n",
    "\n",
    "| Logistics | Disaster management | Healthcare map | \n",
    "|---| --| --|\n",
    "| <img width=500px class=\"center-block\"  src=\"docs/transport/logistics-best.png\"> | <img width=1000px class=\"center-block\" src=\"docs/transport/flood.png\"> | <img width=500px class=\"center-block\" src=\"docs/transport/healthcare.png\"> |\n",
    "\n",
    "\n",
    "*Ref: https://openrouteservice.org/*"
   ]
  },
  {
   "cell_type": "markdown",
   "metadata": {
    "slideshow": {
     "slide_type": "slide"
    }
   },
   "source": [
    "#  How graphs build Wikipedia knowledge?\n",
    "*knowledge graphs, categorization, text-analysis*"
   ]
  },
  {
   "cell_type": "code",
   "execution_count": null,
   "metadata": {
    "slideshow": {
     "slide_type": "subslide"
    }
   },
   "outputs": [],
   "source": []
  },
  {
   "cell_type": "code",
   "execution_count": null,
   "metadata": {
    "slideshow": {
     "slide_type": "subslide"
    }
   },
   "outputs": [],
   "source": []
  },
  {
   "cell_type": "code",
   "execution_count": null,
   "metadata": {
    "slideshow": {
     "slide_type": "subslide"
    }
   },
   "outputs": [],
   "source": []
  },
  {
   "cell_type": "markdown",
   "metadata": {
    "slideshow": {
     "slide_type": "slide"
    }
   },
   "source": [
    "# Graphs and open neuropsychology\n",
    "*psychological factors, comorbid-lab (my wikipedia), brain networks, balances of the brain*"
   ]
  },
  {
   "cell_type": "markdown",
   "metadata": {
    "slideshow": {
     "slide_type": "subslide"
    }
   },
   "source": [
    "### Networks of traits \n",
    "\n",
    "\n",
    "<img width=1000px class=\"center-block\"  src=\"docs/graphs/psyc-1.png\">\n",
    "\n",
    "*Ref: https://www.hindawi.com/journals/complexity/2019/9424605/*"
   ]
  },
  {
   "cell_type": "markdown",
   "metadata": {
    "slideshow": {
     "slide_type": "subslide"
    }
   },
   "source": [
    "### Brain networks \n",
    "\n"
   ]
  },
  {
   "cell_type": "markdown",
   "metadata": {
    "slideshow": {
     "slide_type": "subslide"
    }
   },
   "source": [
    "### Neuropsychology of Diseases\n",
    "\n",
    "| **Dementia** | **Parkinsons** |\n",
    "| ------- | ---------| \n",
    "|  memory subnetwork drops | Movement network drops |\n",
    "| **Autism** | **Stroke (aphasia)** |\n",
    "| over-generalization | language center | "
   ]
  },
  {
   "cell_type": "markdown",
   "metadata": {
    "slideshow": {
     "slide_type": "subslide"
    }
   },
   "source": [
    "### Data: OpenNeuro\n",
    "\n"
   ]
  },
  {
   "cell_type": "markdown",
   "metadata": {
    "slideshow": {
     "slide_type": "subslide"
    }
   },
   "source": [
    "### Tools: MRICron\n",
    "\n"
   ]
  },
  {
   "cell_type": "markdown",
   "metadata": {
    "slideshow": {
     "slide_type": "slide"
    }
   },
   "source": [
    "# Graphs and open biomedicine\n",
    "*ontologies, tools, open-targets*"
   ]
  },
  {
   "cell_type": "markdown",
   "metadata": {
    "slideshow": {
     "slide_type": "subslide"
    }
   },
   "source": [
    "### Finding concepts like in Wikipedia\n",
    "\n",
    "<img width=1000px class=\"center-block\"  src=\"docs/graphs/biomed-concepts.png\">\n",
    "\n",
    "*Ref: https://www.nature.com/articles/s41598-017-05778-z*"
   ]
  },
  {
   "cell_type": "markdown",
   "metadata": {
    "slideshow": {
     "slide_type": "subslide"
    }
   },
   "source": [
    "### Building precision medicine\n",
    "\n",
    "\n",
    "<img width=1000px class=\"center-block\"  src=\"docs/graphs/biomed1.png\">\n",
    "\n",
    "*Ref: https://www.nature.com/articles/s41597-023-01960-3*"
   ]
  },
  {
   "cell_type": "markdown",
   "metadata": {
    "slideshow": {
     "slide_type": "subslide"
    }
   },
   "source": [
    "### Data: Ontologies\n",
    "\n",
    "*Ref: MOX*"
   ]
  },
  {
   "cell_type": "markdown",
   "metadata": {
    "slideshow": {
     "slide_type": "subslide"
    }
   },
   "source": [
    "### Tools: Open Targets\n",
    "\n",
    "*Ref: https://platform.opentargets.org/*"
   ]
  },
  {
   "cell_type": "markdown",
   "metadata": {
    "slideshow": {
     "slide_type": "slide"
    }
   },
   "source": [
    "# Graphs and AI\n",
    "*GNN vs GPTs*"
   ]
  },
  {
   "cell_type": "code",
   "execution_count": null,
   "metadata": {},
   "outputs": [],
   "source": []
  }
 ],
 "metadata": {
  "celltoolbar": "Slideshow",
  "kernelspec": {
   "display_name": "Python 3 (ipykernel)",
   "language": "python",
   "name": "python3"
  },
  "language_info": {
   "codemirror_mode": {
    "name": "ipython",
    "version": 3
   },
   "file_extension": ".py",
   "mimetype": "text/x-python",
   "name": "python",
   "nbconvert_exporter": "python",
   "pygments_lexer": "ipython3",
   "version": "3.10.12"
  },
  "vscode": {
   "interpreter": {
    "hash": "e7370f93d1d0cde622a1f8e1c04877d8463912d04d973331ad4851f04de6915a"
   }
  }
 },
 "nbformat": 4,
 "nbformat_minor": 4
}

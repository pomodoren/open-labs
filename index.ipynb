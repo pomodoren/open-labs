{
 "cells": [
  {
   "cell_type": "markdown",
   "metadata": {},
   "source": [
    "<div style=\"float: right;\">\n",
    "\n",
    "<a href=\"https://pomodoren.github.io\" style=\"color:teal\">pomodoren</a> \n",
    "</div>\n",
    "\n",
    "## <span style=\"color:teal;font-weight:bold;\">open-labs presentations </span>\n",
    "\n",
    "- **2023.08**: <a href=\"2023-08-03-transport-OSS and Mobility.slides.html\" style=\"color:teal\"> Introduction to Mobility</a>\n",
    "- **2023.01**: <a href=\"2023-01-17-neuro-The Spongy Brain.slides.html\" style=\"color:teal\"> Introduction to Neuroscience</a>\n"
   ]
  }
 ],
 "metadata": {
  "kernelspec": {
   "display_name": "Python 3 (ipykernel)",
   "language": "python",
   "name": "python3"
  },
  "language_info": {
   "name": "python"
  }
 },
 "nbformat": 4,
 "nbformat_minor": 2
}
